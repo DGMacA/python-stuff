{
 "cells": [
  {
   "cell_type": "markdown",
   "id": "ec3164fc",
   "metadata": {},
   "source": [
    "### Modular Arithmetic of the form   $\\ ax=b\\ (mod\\ m) $.\n",
    "\n",
    "__A mathematics and Python learning exercise - do not rely on this notebook__.\n",
    "\n",
    "There has been little 'generalised' testing, i.e. there may be many cases that break down.\n",
    "\n",
    "DGMacA - current version 03 February 2023."
   ]
  },
  {
   "cell_type": "raw",
   "id": "fc8ae226",
   "metadata": {},
   "source": [
    "<div style=\"page-break-after: always;\"></div>"
   ]
  },
  {
   "cell_type": "markdown",
   "id": "0e5b57ae",
   "metadata": {},
   "source": [
    "Solve a linear equation in modular arithmetic.\n",
    "\n",
    "$\\ a.x = b \\ (mod\\ m)\\ $.\n",
    "\n",
    "Input values for $\\ m,\\ a,\\ b\\ $."
   ]
  },
  {
   "cell_type": "code",
   "execution_count": 1,
   "id": "5a91d5b5",
   "metadata": {},
   "outputs": [
    {
     "name": "stdout",
     "output_type": "stream",
     "text": [
      "Equation to solve    : 12 * x = 36 ( mod 68 )\n",
      "\n",
      "The equation has 4 solutions.\n",
      "Reduced equation to solve: 3 * x = 9 ( mod 17 )\n",
      "\n",
      "Multiplicative Inverse of 3 mod 17 is 6 .\n",
      "\n",
      "Solution set is: [3, 20, 37, 54] .\n"
     ]
    }
   ],
   "source": [
    "# Linear equations in modular arithmetic :: a.x = b (mod m)\n",
    "from math import gcd\n",
    "#****************************************************\n",
    "m, a, b = 68, 12, 36    # inputs mod, coeff, constant\n",
    "#****************************************************\n",
    "print('Equation to solve    :', a,'* x =',b, '( mod', m,')\\n')\n",
    "\n",
    "sol=[]\n",
    "d = gcd(a,m)\n",
    "coprime = d==1\n",
    "\n",
    "def multinv(a,m):          # find multiplicative inverse\n",
    "       for i in range(1,m):\n",
    "        if i * a % m == 1:\n",
    "            mi = i\n",
    "            print('Multiplicative Inverse of',a,'mod',m,'is', mi,'.')\n",
    "            return mi\n",
    "            break\n",
    "\n",
    "if coprime:\n",
    "    mi = multinv(a,m)\n",
    "    sol = (mi * b) % m\n",
    "else:\n",
    "    if b%d == 0:      # Does d divide b?\n",
    "        newm, newa, newb = m//d, a//d, b//d \n",
    "        # These are integers, but Python needs to know\n",
    "        print('The equation has',d,'solutions.')\n",
    "        print('Reduced equation to solve:', newa,'* x =',newb, '( mod', newm,')')\n",
    "        print()\n",
    "        mi = multinv(newa,newm)\n",
    "        sol1 = (mi * newb) % newm \n",
    "        sol.append(sol1)\n",
    "        for j in range(1,d):\n",
    "            sol.append(int(sol1 + j/d * m))\n",
    "    else:\n",
    "        print('GCD of',a,'and',m,'is',d,'which does not divide',b,';\\\n",
    "        there is no solution.')\n",
    "\n",
    "if len(sol)>0:\n",
    "    print('\\nSolution set is:', sol,'.')"
   ]
  }
 ],
 "metadata": {
  "kernelspec": {
   "display_name": "Python 3 (ipykernel)",
   "language": "python",
   "name": "python3"
  },
  "language_info": {
   "codemirror_mode": {
    "name": "ipython",
    "version": 3
   },
   "file_extension": ".py",
   "mimetype": "text/x-python",
   "name": "python",
   "nbconvert_exporter": "python",
   "pygments_lexer": "ipython3",
   "version": "3.9.13"
  }
 },
 "nbformat": 4,
 "nbformat_minor": 5
}
