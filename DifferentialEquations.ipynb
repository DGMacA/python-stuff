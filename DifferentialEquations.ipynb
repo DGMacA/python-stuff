{
 "cells": [
  {
   "cell_type": "markdown",
   "metadata": {
    "tags": []
   },
   "source": [
    "### Ordinary Differential Equations  \n",
    "\n",
    "First- and Second-order separable or linear equations.\n",
    "\n",
    "__A mathematics and Python learning exercise - do not rely on this notebook__.\n",
    "\n",
    "There has been little 'generalised' testing, i.e. there may be many cases that break down.\n",
    "\n",
    "DGMacA - current version 03 February 2023."
   ]
  },
  {
   "cell_type": "raw",
   "metadata": {},
   "source": [
    "<div style=\"page-break-after: always;\"></div>"
   ]
  },
  {
   "cell_type": "markdown",
   "metadata": {},
   "source": [
    "#### First-order initial condition problem\n",
    "\n",
    "Example case: $\\ \\dfrac{dy}{dx} + y = x^2-3x+1\\ $ with initial condition $\\ y(0)=1\\ $.\n",
    "\n",
    "Inputs are between asterisked lines:\n",
    "1. all terms involving $\\ y(x),\\ y'(x)\\ $ are in `expr` (the expression):\n",
    "2. other terms are included in `rhs`."
   ]
  },
  {
   "cell_type": "code",
   "execution_count": 1,
   "metadata": {},
   "outputs": [
    {
     "name": "stdout",
     "output_type": "stream",
     "text": [
      "Expression:\n"
     ]
    },
    {
     "data": {
      "text/latex": [
       "$\\displaystyle y{\\left(x \\right)} + \\frac{d}{d x} y{\\left(x \\right)} = x^{2} - 3 x + 1$"
      ],
      "text/plain": [
       "Eq(y(x) + Derivative(y(x), x), x**2 - 3*x + 1)"
      ]
     },
     "metadata": {},
     "output_type": "display_data"
    },
    {
     "name": "stdout",
     "output_type": "stream",
     "text": [
      "General solution\n"
     ]
    },
    {
     "data": {
      "text/latex": [
       "$\\displaystyle y{\\left(x \\right)} = C_{1} e^{- x} + x^{2} - 5 x + 6$"
      ],
      "text/plain": [
       "Eq(y(x), C1*exp(-x) + x**2 - 5*x + 6)"
      ]
     },
     "metadata": {},
     "output_type": "display_data"
    },
    {
     "name": "stdout",
     "output_type": "stream",
     "text": [
      "Initial value solution (satisfying initial conditions)\n"
     ]
    },
    {
     "data": {
      "text/latex": [
       "$\\displaystyle y{\\left(x \\right)} = x^{2} - 5 x + 6 - 5 e^{- x}$"
      ],
      "text/plain": [
       "Eq(y(x), x**2 - 5*x + 6 - 5*exp(-x))"
      ]
     },
     "metadata": {},
     "output_type": "display_data"
    },
    {
     "data": {
      "image/png": "[encoded data removed]",
      "text/plain": [
       "<Figure size 500x300 with 1 Axes>"
      ]
     },
     "metadata": {},
     "output_type": "display_data"
    }
   ],
   "source": [
    "from sympy import symbols, Function, dsolve, classify_ode, Eq, plot\n",
    "x = symbols('x', positive = True)\n",
    "# include any other symbols needed\n",
    "y = Function('y')\n",
    "#************************************************************\n",
    "expr = y(x).diff(x) + y(x)\n",
    "rhs  = x**2 - 3*x + 1\n",
    "#ics  = {}            # include if no I.C. to be applied\n",
    "ics = {y(0):1}        # specify initial condition\n",
    "#************************************************************\n",
    "print('Expression:')\n",
    "display(Eq(expr, rhs))\n",
    "#print('ODE class: ', classify_ode(expr)[0], '\\n')\n",
    "print('General solution')\n",
    "display(dsolve(Eq(expr, rhs))) # homogeneous solution\n",
    "if len(ics)>0:\n",
    "    print('Initial value solution (satisfying initial conditions)')\n",
    "    sol = dsolve(Eq(expr, rhs), ics=ics); display(sol)\n",
    "# 'rough and ready' plot\n",
    "    plot(sol.rhs, (x,0,4), size=(5,3))  # adjust x limits to suit"
   ]
  },
  {
   "cell_type": "raw",
   "metadata": {},
   "source": [
    "<div style=\"page-break-after: always;\"></div>"
   ]
  },
  {
   "cell_type": "markdown",
   "metadata": {},
   "source": [
    "#### Second-order initial condition problem\n",
    "\n",
    "Example case: $\\ \\dfrac{d^2y}{dx^2} + 7 \\dfrac{dy}{dx} + 12y = 7\\cos{x}\\ $ with initial conditions $\\ y(0)=1,\\ \\dfrac{dy}{dx}(0) = 0\\ $.\n",
    "\n",
    "Inputs are between asterisked lines:\n",
    "1. all terms involving $\\ y(x),\\ y'(x), \\ y''(x)\\ $ are in `expr` (the expression):\n",
    "2. other terms are included in `rhs`."
   ]
  },
  {
   "cell_type": "code",
   "execution_count": 2,
   "metadata": {},
   "outputs": [
    {
     "name": "stdout",
     "output_type": "stream",
     "text": [
      "Expression:\n"
     ]
    },
    {
     "data": {
      "text/latex": [
       "$\\displaystyle 12 y{\\left(x \\right)} + 7 \\frac{d}{d x} y{\\left(x \\right)} + \\frac{d^{2}}{d x^{2}} y{\\left(x \\right)} = 10 \\cos{\\left(x \\right)}$"
      ],
      "text/plain": [
       "Eq(12*y(x) + 7*Derivative(y(x), x) + Derivative(y(x), (x, 2)), 10*cos(x))"
      ]
     },
     "metadata": {},
     "output_type": "display_data"
    },
    {
     "name": "stdout",
     "output_type": "stream",
     "text": [
      "\n",
      "Complementary function:\n"
     ]
    },
    {
     "data": {
      "text/latex": [
       "$\\displaystyle \\operatorname{y_{c}}{\\left(x \\right)} = C_{1} e^{- 3 x} + C_{2} e^{- 4 x}$"
      ],
      "text/plain": [
       "Eq(y_c(x), C1*exp(-3*x) + C2*exp(-4*x))"
      ]
     },
     "metadata": {},
     "output_type": "display_data"
    },
    {
     "name": "stdout",
     "output_type": "stream",
     "text": [
      "General Solution:\n"
     ]
    },
    {
     "data": {
      "text/latex": [
       "$\\displaystyle y{\\left(x \\right)} = C_{1} e^{- 4 x} + C_{2} e^{- 3 x} + \\frac{7 \\sin{\\left(x \\right)}}{17} + \\frac{11 \\cos{\\left(x \\right)}}{17}$"
      ],
      "text/plain": [
       "Eq(y(x), C1*exp(-4*x) + C2*exp(-3*x) + 7*sin(x)/17 + 11*cos(x)/17)"
      ]
     },
     "metadata": {},
     "output_type": "display_data"
    },
    {
     "name": "stdout",
     "output_type": "stream",
     "text": [
      "Particular Solution (satisfying initial conditions):\n"
     ]
    },
    {
     "data": {
      "text/latex": [
       "$\\displaystyle y{\\left(x \\right)} = \\frac{7 \\sin{\\left(x \\right)}}{17} + \\frac{11 \\cos{\\left(x \\right)}}{17} + e^{- 3 x} - \\frac{11 e^{- 4 x}}{17}$"
      ],
      "text/plain": [
       "Eq(y(x), 7*sin(x)/17 + 11*cos(x)/17 + exp(-3*x) - 11*exp(-4*x)/17)"
      ]
     },
     "metadata": {},
     "output_type": "display_data"
    },
    {
     "data": {
      "image/png": "[encoded data removed]",
      "text/plain": [
       "<Figure size 500x300 with 1 Axes>"
      ]
     },
     "metadata": {},
     "output_type": "display_data"
    }
   ],
   "source": [
    "%reset -f\n",
    "from sympy import symbols, Function, dsolve, classify_ode, lambdify, Eq, plot \n",
    "from sympy import simplify, cos, pi, solve, expand\n",
    "import numpy as np\n",
    "import matplotlib.pyplot as plt\n",
    "plt.rcParams.update({\"text.usetex\": True})\n",
    "x = symbols('x', positive=True)\n",
    "yc = Function('y_c')\n",
    "y = Function('y')  \n",
    "#*************************************************************\n",
    "expr = y(x).diff(x, 2) + 7*y(x).diff(x) + 12*y(x) \n",
    "rhs  = 10*cos(x)\n",
    "#ics  = {}            # include if no I.C. to be applied\n",
    "ics  = {y(0): 1, y(x).diff(x).subs(x, 0): 0} # y(0)=1, y'(0)=0\n",
    "#*************************************************************\n",
    "print('Expression:')\n",
    "display(Eq(expr, rhs))\n",
    "#print('ODE class: ', classify_ode(expr)[0])\n",
    "com_fun = expand(dsolve(Eq(expr, 0))) # complementary function\n",
    "sol = com_fun.rhs\n",
    "print('\\nComplementary function:')\n",
    "display(Eq(yc(x), com_fun.rhs))\n",
    "if rhs != 0:         # applies if equation is not homogeneous\n",
    "    gen_sol  = dsolve(Eq(expr, rhs))\n",
    "    print('General Solution:')\n",
    "    display(gen_sol)\n",
    "if len(ics) > 0:     # applies if ics specified\n",
    "    par_sol = dsolve(Eq(expr, rhs), ics=ics); sol = par_sol.rhs\n",
    "    print('Particular Solution (satisfying initial conditions):')\n",
    "    display(par_sol)\n",
    "# 'rough and ready' plot\n",
    "    plot(sol, (x,0,15), size=(5,3)) # adjust x limits to suit"
   ]
  }
 ],
 "metadata": {
  "kernelspec": {
   "display_name": "Python 3 (ipykernel)",
   "language": "python",
   "name": "python3"
  },
  "language_info": {
   "codemirror_mode": {
    "name": "ipython",
    "version": 3
   },
   "file_extension": ".py",
   "mimetype": "text/x-python",
   "name": "python",
   "nbconvert_exporter": "python",
   "pygments_lexer": "ipython3",
   "version": "3.9.13"
  },
  "toc-autonumbering": false,
  "toc-showcode": false,
  "toc-showmarkdowntxt": false,
  "toc-showtags": false
 },
 "nbformat": 4,
 "nbformat_minor": 4
}
