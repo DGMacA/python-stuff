{
 "cells": [
  {
   "cell_type": "markdown",
   "id": "e97baed1",
   "metadata": {},
   "source": [
    "### Roots of Complex Numbers of the form   $\\ \\sqrt[r]{a + i b}\\ $.\n",
    "\n",
    "__A mathematics and Python learning exercise - do not rely on this notebook__.\n",
    "\n",
    "There has been little 'generalised' testing, i.e. there may be many cases that break down.\n",
    "\n",
    "DGMacA - current version 03 February 2023."
   ]
  },
  {
   "cell_type": "raw",
   "id": "e9503968",
   "metadata": {},
   "source": [
    "<div style=\"page-break-after: always;\"></div>"
   ]
  },
  {
   "cell_type": "markdown",
   "id": "dd5e04cd",
   "metadata": {},
   "source": [
    "Given a complex number $\\ a + i b\\ $, input as `complex(a,b)`, find $ r $ complex roots and tabulate them."
   ]
  },
  {
   "cell_type": "code",
   "execution_count": 1,
   "id": "e3ea0a67",
   "metadata": {},
   "outputs": [
    {
     "name": "stdout",
     "output_type": "stream",
     "text": [
      "z        : (-8+13.856406j) .\n",
      "Size of z: 16.0 .\n",
      "Argument : 2.094395 rad  = 0.666667 pi =  120.0 deg.\n",
      "\n",
      "Magnitude of roots is: 1.741101 .\n",
      "\n",
      "The 5-th roots of  (-8+13.856406j) are\n",
      "╒═════╤═══════════╤═══════════╤═══════════════╤════════════╤═══════════════╕\n",
      "│   # │    (real) │    (imag) │   theta (rad) │   theta/pi │   theta (deg) │\n",
      "╞═════╪═══════════╪═══════════╪═══════════════╪════════════╪═══════════════╡\n",
      "│   1 │  1.590575 │  0.708170 │      0.418879 │   0.133333 │          24.0 │\n",
      "├─────┼───────────┼───────────┼───────────────┼────────────┼───────────────┤\n",
      "│   2 │ -0.181995 │  1.731563 │      1.675516 │   0.533333 │          96.0 │\n",
      "├─────┼───────────┼───────────┼───────────────┼────────────┼───────────────┤\n",
      "│   3 │ -1.703054 │  0.361995 │      2.932153 │   0.933333 │         168.0 │\n",
      "├─────┼───────────┼───────────┼───────────────┼────────────┼───────────────┤\n",
      "│   4 │ -0.870551 │ -1.507838 │      4.188790 │   1.333333 │         240.0 │\n",
      "├─────┼───────────┼───────────┼───────────────┼────────────┼───────────────┤\n",
      "│   5 │  1.165024 │ -1.293890 │      5.445427 │   1.733333 │         312.0 │\n",
      "╘═════╧═══════════╧═══════════╧═══════════════╧════════════╧═══════════════╛\n"
     ]
    }
   ],
   "source": [
    "import cmath\n",
    "from math import cos, sin, pi, sqrt\n",
    "import numpy as np\n",
    "import tabulate\n",
    "data = [[\"#\",\"(real)\",\"(imag)\",\"theta (rad)\",\"theta/pi\",\"theta (deg)\"]]\n",
    "\n",
    "def root(num, r):\n",
    "    size = abs(num)\n",
    "    ang = cmath.phase(num)\n",
    "    base = size ** (1.0/r)\n",
    "    roots = []\n",
    "    angles = []\n",
    "    for i in range(0, r):\n",
    "        ti = (ang + i *2*pi)/ r\n",
    "        angles.append(ti)\n",
    "        roots.append(base * complex(cos(ti), sin(ti)))\n",
    "    return roots, angles\n",
    "\n",
    "#*******************************************************\n",
    "''' Inputs '''\n",
    "z = complex(-8, 8*sqrt(3)) # number whose roots we want\n",
    "r = 5                      # number of roots\n",
    "#*******************************************************\n",
    "size = abs(z)\n",
    "ang = cmath.phase(z)\n",
    "print('z        :',np.round(z,6),'.')\n",
    "print('Size of z:',np.round(size,6),'.')\n",
    "print('Argument :',np.round(ang,6),'rad  =',np.round(ang/pi,6),\n",
    "      'pi = ',np.round(ang*180/pi,6),'deg.')\n",
    "\n",
    "roots, angles = root(z, r)\n",
    "print('\\nMagnitude of roots is:', np.round(size**(1/r),6),'.')\n",
    "print('\\nThe',str(r)+'-th roots of ', np.round(z,6), 'are')\n",
    "\n",
    "for i in range(r):\n",
    "    data.append([i+1, roots[i].real, roots[i].imag, angles[i],\n",
    "          angles[i]/pi, angles[i]*180/pi])\n",
    "\n",
    "table = tabulate.tabulate(data, headers='firstrow', tablefmt='fancy_grid',\n",
    "                          floatfmt=(\".6f\", \".6f\", \".6f\", \".6f\",\".6f\",\".1f\"))\n",
    "print(table)  "
   ]
  }
 ],
 "metadata": {
  "kernelspec": {
   "display_name": "Python 3 (ipykernel)",
   "language": "python",
   "name": "python3"
  },
  "language_info": {
   "codemirror_mode": {
    "name": "ipython",
    "version": 3
   },
   "file_extension": ".py",
   "mimetype": "text/x-python",
   "name": "python",
   "nbconvert_exporter": "python",
   "pygments_lexer": "ipython3",
   "version": "3.9.13"
  }
 },
 "nbformat": 4,
 "nbformat_minor": 5
}
